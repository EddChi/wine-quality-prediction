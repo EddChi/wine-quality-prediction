{
 "cells": [
  {
   "cell_type": "markdown",
   "id": "5f2a70f8",
   "metadata": {},
   "source": [
    "# Wine Quality Prediction\n",
    "\n",
    "This notebook analyses the Red Wine Quality dataset and builds machine learning models to predict wine quality from \n",
    "<br>physicochemical properties such as acidity, alcohol and sulphates.\n",
    "\n",
    "The workflow includes:\n",
    "1. Exploratory Data Analysis (EDA)\n",
    "2. Data preprocessing and feature engineering\n",
    "3. Training and evaluating machine learning models\n",
    "4. Drawing conclusion on feature importance and predictive performance"
   ]
  },
  {
   "cell_type": "markdown",
   "id": "6281a392",
   "metadata": {},
   "source": [
    "## 1. Import Libraries\n",
    "\n",
    "We start by importing the required Python libraries for:\n",
    "- **Data handling**: pandas, numpy\n",
    "- **Visualisation**: matplotlib, seaborn\n",
    "- **Machine learning**: scikit-learn (for models and evaluation)"
   ]
  },
  {
   "cell_type": "code",
   "execution_count": 1,
   "id": "ed6d5e64",
   "metadata": {},
   "outputs": [],
   "source": [
    "import pandas as pd\n",
    "import numpy as np\n",
    "import matplotlib.pyplot as plt\n",
    "import seaborn as sns\n",
    "\n",
    "from sklearn.model_selection import train_test_split\n",
    "from sklearn.linear_model import LinearRegression\n",
    "from sklearn.ensemble import RandomForestRegressor\n",
    "from sklearn.metrics import mean_squared_error, r2_score"
   ]
  }
 ],
 "metadata": {
  "kernelspec": {
   "display_name": "Python 3",
   "language": "python",
   "name": "python3"
  },
  "language_info": {
   "codemirror_mode": {
    "name": "ipython",
    "version": 3
   },
   "file_extension": ".py",
   "mimetype": "text/x-python",
   "name": "python",
   "nbconvert_exporter": "python",
   "pygments_lexer": "ipython3",
   "version": "3.10.11"
  }
 },
 "nbformat": 4,
 "nbformat_minor": 5
}
